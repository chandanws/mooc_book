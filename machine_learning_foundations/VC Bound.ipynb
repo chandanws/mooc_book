{
 "cells": [
  {
   "cell_type": "markdown",
   "metadata": {},
   "source": [
    "When N large enough, \n",
    "\n",
    "$$P[\\exists h\\in \\mathcal{H} \\quad s.t.\\quad  |E_{in}(h)-E_{out}(h)|> \\epsilon]\\le 4 m_\\mathcal{H}(2N)\\exp(-\\frac{1}{8}\\epsilon^2N)$$\n",
    "\n",
    "The above equation called **Vapnik-Chervonenkis (VC) bound**."
   ]
  },
  {
   "cell_type": "markdown",
   "metadata": {},
   "source": [
    "Questions 3-5 are about generalization error, and getting the feel of the bounds numerically. Please use the simple upper bound $N^{d_{vc}}$ on the growth function $m_{\\mathcal H}(N)$, assuming that $N≥2$ and $d_{vc}≥2$."
   ]
  },
  {
   "cell_type": "markdown",
   "metadata": {},
   "source": [
    "Q4: There are a number of bounds on the generalization error ϵ, all holding with probability at least $1−δ$. Fix $d_{vc}=50$ and $δ=0.05$ and plot these bounds as a function of N. Which bound is the tightest (smallest) for very large N, say N=10,000?"
   ]
  },
  {
   "cell_type": "code",
   "execution_count": 8,
   "metadata": {
    "collapsed": true
   },
   "outputs": [],
   "source": [
    "import numpy as np\n",
    "import matplotlib.pyplot as plt"
   ]
  },
  {
   "cell_type": "code",
   "execution_count": 12,
   "metadata": {},
   "outputs": [],
   "source": [
    "dvc=50\n",
    "delta=0.05\n",
    "N=10e3\n",
    "bound1 = np.sqrt(8/N*np.log(4*(2*N)**dvc/delta))\n",
    "bound2 = np.sqrt(2*np.log(2*N*N**dvc)/N)+np.sqrt(2/N*np.log(1./delta))+1./N\n",
    "bound3 = np.sqrt(1./N*(2*))"
   ]
  },
  {
   "cell_type": "code",
   "execution_count": null,
   "metadata": {
    "collapsed": true
   },
   "outputs": [],
   "source": []
  }
 ],
 "metadata": {
  "kernelspec": {
   "display_name": "Python 3",
   "language": "python",
   "name": "python3"
  },
  "language_info": {
   "codemirror_mode": {
    "name": "ipython",
    "version": 3
   },
   "file_extension": ".py",
   "mimetype": "text/x-python",
   "name": "python",
   "nbconvert_exporter": "python",
   "pygments_lexer": "ipython3",
   "version": "3.6.2"
  }
 },
 "nbformat": 4,
 "nbformat_minor": 2
}
